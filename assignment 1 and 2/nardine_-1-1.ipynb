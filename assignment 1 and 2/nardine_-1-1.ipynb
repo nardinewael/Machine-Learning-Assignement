{
  "nbformat": 4,
  "nbformat_minor": 0,
  "metadata": {
    "colab": {
      "name": "nardine_.ipynb",
      "provenance": [],
      "collapsed_sections": []
    },
    "kernelspec": {
      "name": "python3",
      "display_name": "Python 3"
    },
    "language_info": {
      "name": "python"
    }
  },
  "cells": [
    {
      "cell_type": "code",
      "metadata": {
        "id": "PI5uUIxb8T3w"
      },
      "source": [
        "import pandas as pd\n",
        "import numpy as np\n",
        "import matplotlib.pyplot as plt\n",
        "df2 = pd.read_csv('C:\\\\Users\\\\ispamr\\\\Downloads\\\\house_prices_data_training_data.csv', sep=',', header=None)\n",
        "df2.describe()\n",
        "df2.dropna(inplace=True)\n",
        "df2 = df2.drop(0)\n",
        "df2 = df2.drop(0, axis = 1)\n",
        "df2 = df2.drop(1, axis = 1)\n",
        "\n",
        "df2 = df2.convert_dtypes() \n",
        "\n",
        "df2.apply(pd.to_numeric).dtypes                                             \n",
        "df2 = df2.astype(float)"
      ],
      "execution_count": 1,
      "outputs": []
    },
    {
      "cell_type": "code",
      "metadata": {
        "id": "nvdFoYF38Zrg"
      },
      "source": [
        "def feature_normalize(X, mean=np.zeros(1), std=np.zeros(1)):\n",
        "    X = np.array(X)\n",
        "    if len(mean.shape) == 1 or len(std.shape) == 1:\n",
        "        mean = np.mean(X, axis=0)\n",
        "        std = np.std(X, axis=0, ddof=1)\n",
        "\n",
        "    X = (X - mean)/std\n",
        "    return X, mean, std"
      ],
      "execution_count": 2,
      "outputs": []
    },
    {
      "cell_type": "code",
      "metadata": {
        "id": "deC0fdDf8bFf",
        "colab": {
          "base_uri": "https://localhost:8080/"
        },
        "outputId": "30c999bf-2e87-4ec4-bcc1-f67f9deb7f9b"
      },
      "source": [
        "# for column in df2.columns:\n",
        "#   df2[column] = df2[column].as_type(float)\n",
        "X_norm, mu, sigma = feature_normalize(df2)\n",
        "print('Computed mean:', mu)\n",
        "print('Computed standard deviation:', sigma)\n",
        "# X_norm"
      ],
      "execution_count": 3,
      "outputs": [
        {
          "output_type": "stream",
          "text": [
            "Computed mean: [ 5.33074250e+05  3.36296461e+00  2.06160064e+00  2.05182232e+03\n",
            "  1.57587327e+04  1.43316295e+00  7.83376854e-03  2.42457914e-01\n",
            "  3.44852492e+00  7.59236624e+00  1.74974232e+03  3.02080004e+02\n",
            "  1.96728235e+03  9.02535141e+01  9.80780698e+04  4.75602109e+01\n",
            " -1.22215112e+02  1.97323674e+03  1.32822707e+04]\n",
            "Computed standard deviation: [3.64412151e+05 9.34032388e-01 7.58632316e-01 9.02744154e+02\n",
            " 4.24551425e+04 5.09662990e-01 8.81636686e-02 7.78856958e-01\n",
            " 6.67039405e-01 1.16949482e+00 8.05427363e+02 4.49443008e+02\n",
            " 2.79403058e+01 4.14717703e+02 5.41249245e+01 1.39644240e-01\n",
            " 1.39135290e-01 6.73186870e+02 2.73524150e+04]\n"
          ],
          "name": "stdout"
        }
      ]
    },
    {
      "cell_type": "code",
      "metadata": {
        "id": "wrqNleJG8k0x"
      },
      "source": [
        "def compute_cost(X, y, theta):\n",
        "    m = y.shape[0]\n",
        "    h = X.dot(theta)\n",
        "    J = (1/(2*m)) * ((h-y).T.dot(h-y))\n",
        "    return J"
      ],
      "execution_count": 4,
      "outputs": []
    },
    {
      "cell_type": "code",
      "metadata": {
        "id": "q-Ua4pfx-xOW"
      },
      "source": [
        "def gradient_descent(X, y, theta, alpha, num_iters):\n",
        "    m = y.shape[0] \n",
        "    J_history = np.zeros(shape=(num_iters, 1))\n",
        "\n",
        "    for i in range(0, num_iters):\n",
        "        h = X.dot(theta)\n",
        "        diff_hy = h - y\n",
        "\n",
        "        delta = (1/m) * (diff_hy.T.dot(X))\n",
        "        theta = theta - (alpha * delta.T)\n",
        "        J_history[i] = compute_cost(X, y, theta)\n",
        "\n",
        "    return theta, J_history"
      ],
      "execution_count": 5,
      "outputs": []
    },
    {
      "cell_type": "code",
      "metadata": {
        "id": "Rjp-BplC-yVK"
      },
      "source": [
        "m = df2.shape[0]\n",
        "# X = df2.iloc[:, 3:].values\n",
        "# X = df2.iloc[:, 3:].astype(float)\n",
        "# y = df2.iloc[:, 2].astype(float)\n",
        "# X = np.hstack((np.ones((m,1)),X_norm))\n",
        "X = np.hstack((np.ones((m,1)),X_norm))\n",
        "\n",
        "y = np.array(df2.iloc[:, 2].astype(float).values).reshape(-1,1)\n",
        "# y = df2.iloc[:, 2].values\n",
        "theta = np.zeros(shape=(X.shape[1],1))"
      ],
      "execution_count": 6,
      "outputs": []
    },
    {
      "cell_type": "code",
      "metadata": {
        "colab": {
          "base_uri": "https://localhost:8080/"
        },
        "id": "jPk-32HV-zPT",
        "outputId": "523b0421-189a-4a4a-b3e5-7671100ae588"
      },
      "source": [
        "alpha = [0.3, 0.1, 0.03, 0.01]\n",
        "colors = ['b','r','g','c']\n",
        "num_iters = 50\n",
        "X.shape"
      ],
      "execution_count": 7,
      "outputs": [
        {
          "output_type": "execute_result",
          "data": {
            "text/plain": [
              "(17999, 20)"
            ]
          },
          "metadata": {
            "tags": []
          },
          "execution_count": 7
        }
      ]
    },
    {
      "cell_type": "code",
      "metadata": {
        "colab": {
          "base_uri": "https://localhost:8080/",
          "height": 295
        },
        "id": "yMj6ZVJ2-06W",
        "outputId": "b3252940-1948-4ff9-d546-69db91662ad8"
      },
      "source": [
        "for i in range(0, len(alpha)):\n",
        "    theta = np.zeros(shape=(X.shape[1],1))\n",
        "    theta, J_history = gradient_descent(X, y, theta, alpha[i], num_iters)\n",
        "    plt.plot(range(len(J_history)), J_history, colors[i], label='Alpha {}'.format(alpha[i]))\n",
        "plt.xlabel('Number of iterations');\n",
        "plt.ylabel('Cost J');\n",
        "plt.title('Selecting learning rates');\n",
        "plt.legend()\n",
        "plt.show()"
      ],
      "execution_count": 8,
      "outputs": [
        {
          "output_type": "display_data",
          "data": {
            "text/plain": [
              "<Figure size 432x288 with 1 Axes>"
            ],
            "image/png": "[encoded data removed]"
          },
          "metadata": {
            "tags": [],
            "needs_background": "light"
          }
        }
      ]
    },
    {
      "cell_type": "code",
      "metadata": {
        "colab": {
          "base_uri": "https://localhost:8080/"
        },
        "id": "H-UjEyv3-2QP",
        "outputId": "49796cfc-2ad3-4847-c612-33ac2e0863b8"
      },
      "source": [
        "iterations = 250\n",
        "alpha = 0.1\n",
        "theta, _ = gradient_descent(X, y, theta, alpha, iterations)\n",
        "\n",
        "print('Theta found by gradient descent:')\n",
        "print(theta)"
      ],
      "execution_count": 9,
      "outputs": [
        {
          "output_type": "stream",
          "text": [
            "Theta found by gradient descent:\n",
            "[[ 2.06160064e+00]\n",
            " [ 4.36136659e-04]\n",
            " [ 1.13119183e-04]\n",
            " [ 7.56835903e-01]\n",
            " [ 7.76800922e-04]\n",
            " [ 4.49622710e-05]\n",
            " [ 3.19657425e-04]\n",
            " [-1.31744205e-04]\n",
            " [ 4.01519841e-05]\n",
            " [ 2.08771402e-04]\n",
            " [-7.58462619e-04]\n",
            " [ 6.20533146e-04]\n",
            " [ 4.48239515e-04]\n",
            " [ 1.14614056e-03]\n",
            " [ 2.75714826e-04]\n",
            " [ 1.13547466e-06]\n",
            " [ 6.31015720e-05]\n",
            " [-2.28917121e-04]\n",
            " [-3.13946836e-04]\n",
            " [-9.39177481e-05]]\n"
          ],
          "name": "stdout"
        }
      ]
    },
    {
      "cell_type": "code",
      "metadata": {
        "colab": {
          "base_uri": "https://localhost:8080/"
        },
        "id": "5j-7Q-LXBdG1",
        "outputId": "82a95507-518f-4b92-aedf-082da8306d54"
      },
      "source": [
        "\n",
        "\n",
        "bedrooms = (5, - mu[0]/sigma[0])\n",
        "bathrooms = (3, - mu[1]/sigma[1])\n",
        "sqft_living = (1150, mu[2]/sigma[2])\n",
        "sqft_lot = (7450, mu[3]/sigma[3])\n",
        "floors = (2, mu[4]/sigma[4])\n",
        "waterfront = (0, mu[5]/sigma[5])\n",
        "view = (2, mu[6]/sigma[6])\n",
        "condition = (2, mu[7]/sigma[7])\n",
        "grade = (10, mu[8]/sigma[8])\n",
        "sqft_above = (2000, mu[9]/sigma[9])\n",
        "sqft_basement = (430, mu[10]/sigma[10])\n",
        "yr_built = (2009, mu[11]/sigma[11])\n",
        "yr_renovated = (1000, mu[12]/sigma[12])\n",
        "zipcode = (9813, mu[13]/sigma[13])\n",
        "lat = (47.6370, mu[14]/sigma[14])\n",
        "long_ = (-122.250, mu[15]/sigma[15])\n",
        "sqft_living15 = (1410, mu[16]/sigma[16])\n",
        "sqft_lot15 = (8750, mu[17]/sigma[17])\n",
        "\n",
        "y_pred = theta[0] + theta[1]*bedrooms + theta[2]*bathrooms + theta[3]*sqft_living + theta[4]*sqft_lot + theta[5]*floors + theta[6]*waterfront + theta[7]*view + theta[8]*condition + theta[9]*grade + theta[10]*sqft_above + theta[11]*sqft_basement + theta[12]*yr_built + theta[13]*yr_renovated + theta[14]*zipcode + theta[15]*lat + theta[16]*long_ + theta[17]*sqft_living15 + theta[18]*sqft_lot15\n",
        "f'Price of a house with 1650 square feet and 3 bedrooms: {y_pred[0]}$'"
      ],
      "execution_count": 10,
      "outputs": [
        {
          "output_type": "execute_result",
          "data": {
            "text/plain": [
              "'Price of a house with 1650 square feet and 3 bedrooms: 878.6392500305343$'"
            ]
          },
          "metadata": {
            "tags": []
          },
          "execution_count": 10
        }
      ]
    },
    {
      "cell_type": "code",
      "metadata": {
        "id": "ngNfF3DBBdcT"
      },
      "source": [
        "def normal_eqn(X, y):\n",
        "    inv = np.linalg.pinv(X.T.dot(X))\n",
        "    theta = inv.dot(X.T).dot(y)\n",
        "    return theta"
      ],
      "execution_count": 11,
      "outputs": []
    },
    {
      "cell_type": "code",
      "metadata": {
        "colab": {
          "base_uri": "https://localhost:8080/"
        },
        "id": "46hEZLLiBh8y",
        "outputId": "5f900c01-d0d1-469d-b169-c1100a0e4dfb"
      },
      "source": [
        "Xe = np.hstack((np.ones((m,1)),X_norm))\n",
        "theta_e = normal_eqn(Xe, y)\n",
        "theta_e"
      ],
      "execution_count": 12,
      "outputs": [
        {
          "output_type": "execute_result",
          "data": {
            "text/plain": [
              "array([[ 2.06160064e+00],\n",
              "       [-1.87350135e-16],\n",
              "       [ 8.67361738e-17],\n",
              "       [ 7.58632316e-01],\n",
              "       [ 3.81639165e-16],\n",
              "       [ 3.33066907e-16],\n",
              "       [ 1.49272955e-15],\n",
              "       [ 7.28583860e-17],\n",
              "       [-3.00107161e-16],\n",
              "       [ 3.94649591e-16],\n",
              "       [-9.36750677e-17],\n",
              "       [ 7.84095011e-16],\n",
              "       [ 1.12843762e-15],\n",
              "       [ 7.45931095e-17],\n",
              "       [ 3.77302356e-16],\n",
              "       [ 2.05564732e-16],\n",
              "       [ 4.46691295e-16],\n",
              "       [-1.78676518e-16],\n",
              "       [ 5.27355937e-16],\n",
              "       [-3.27429056e-16]])"
            ]
          },
          "metadata": {
            "tags": []
          },
          "execution_count": 12
        }
      ]
    },
    {
      "cell_type": "code",
      "metadata": {
        "colab": {
          "base_uri": "https://localhost:8080/"
        },
        "id": "e-vopgR7Bi6S",
        "outputId": "258f3500-a870-4da1-cce7-f8f6d8989a45"
      },
      "source": [
        " \n",
        " \n",
        "bedrooms = (5, - mu[0]/sigma[0])\n",
        "bathrooms = (3, - mu[1]/sigma[1])\n",
        "sqft_living = (1150, mu[2]/sigma[2])\n",
        "sqft_lot = (7450, mu[3]/sigma[3])\n",
        "floors = (2, mu[4]/sigma[4])\n",
        "waterfront = (0, mu[5]/sigma[5])\n",
        "view = (2, mu[6]/sigma[6])\n",
        "condition = (2, mu[7]/sigma[7])\n",
        "grade = (10, mu[8]/sigma[8])\n",
        "sqft_above = (2000, mu[9]/sigma[9])\n",
        "sqft_basement = (430, mu[10]/sigma[10])\n",
        "yr_built = (2009, mu[11]/sigma[11])\n",
        "yr_renovated = (1000, mu[12]/sigma[12])\n",
        "zipcode = (9813, mu[13]/sigma[13])\n",
        "lat = (47.6370, mu[14]/sigma[14])\n",
        "long_ = (-122.250, mu[15]/sigma[15])\n",
        "sqft_living15 = (1410, mu[16]/sigma[16])\n",
        "sqft_lot15 = (8750, mu[17]/sigma[17])\n",
        " \n",
        "y_pred = theta_e[0] + theta_e[1]*bedrooms + theta_e[2]*bathrooms + theta_e[3]*sqft_living + theta_e[4]*sqft_lot + theta_e[5]*floors + theta_e[6]*waterfront + theta_e[7]*view + theta_e[8]*condition + theta_e[9]*grade + theta_e[10]*sqft_above + theta_e[11]*sqft_basement + theta_e[12]*yr_built + theta_e[13]*yr_renovated + theta_e[14]*zipcode + theta_e[15]*lat + theta_e[16]*long_ + theta_e[17]*sqft_living15 + theta_e[18]*sqft_lot15\n",
        "f'Price of a house with 1650 square feet and 3 bedrooms: {y_pred[0]}$'"
      ],
      "execution_count": 13,
      "outputs": [
        {
          "output_type": "execute_result",
          "data": {
            "text/plain": [
              "'Price of a house with 1650 square feet and 3 bedrooms: 874.4887638584737$'"
            ]
          },
          "metadata": {
            "tags": []
          },
          "execution_count": 13
        }
      ]
    },
    {
      "cell_type": "code",
      "metadata": {
        "id": "U_owuTHUGTI1",
        "colab": {
          "base_uri": "https://localhost:8080/"
        },
        "outputId": "e0f0920e-30ec-4918-b1c6-01260bfdc75c"
      },
      "source": [
        "X.shape"
      ],
      "execution_count": 14,
      "outputs": [
        {
          "output_type": "execute_result",
          "data": {
            "text/plain": [
              "(17999, 20)"
            ]
          },
          "metadata": {
            "tags": []
          },
          "execution_count": 14
        }
      ]
    },
    {
      "cell_type": "code",
      "metadata": {
        "id": "drdVpkkPGTdR"
      },
      "source": [
        ""
      ],
      "execution_count": 14,
      "outputs": []
    },
    {
      "cell_type": "code",
      "metadata": {
        "id": "eBeo0JmkGUx0"
      },
      "source": [
        "dataset = pd.read_csv('C://Users/ispamr//Downloads//house_prices_data_training_data.csv')\n",
        "dataset.dropna(inplace=True)\n",
        "X = dataset.iloc[:, 3:].values\n",
        "y = dataset.iloc[:, 2].values\n",
        "from sklearn.model_selection import train_test_split\n",
        "X_train, X_test, y_train, y_test = train_test_split(X, y, test_size = 0.2, random_state = 0)"
      ],
      "execution_count": 15,
      "outputs": []
    },
    {
      "cell_type": "code",
      "metadata": {
        "id": "jZf7J2lpUSKm"
      },
      "source": [
        "# #Implementing cross validation\n",
        "# from sklearn.model_selection import KFold \n",
        "# from sklearn.metrics import accuracy_score\n",
        "# from sklearn.linear_model import LinearRegression\n",
        "\n",
        "# k = 5\n",
        "# kf = KFold(n_splits=k, random_state=None)\n",
        "# model = LinearRegression()\n",
        "\n",
        "# acc_score = []\n",
        "\n",
        "# for train_index , test_index in kf.split(X):\n",
        "#     X_train , X_test = X[train_index,:],X[test_index,:]\n",
        "#     y_train , y_test = y[train_index] , y[test_index]\n",
        "    \n",
        "#     model.fit(X_train,y_train)\n",
        "#     y_pred = model.predict(X_test)\n",
        "#     acc = r2_score(y_test, y_pred)\n",
        "#     acc_score.append(acc)\n",
        "\n",
        "    \n",
        "# avg_acc_score = sum(acc_score)/k\n",
        "\n",
        "# print('accuracy of each fold - {}'.format(acc_score))\n",
        "# print('Avg accuracy : {}'.format(avg_acc_score))\n",
        "\n",
        "# from sklearn.model_selection import cross_val_score\n",
        "# accuracies = cross_val_score(estimator=model,X = X_train,y=y_train,cv=10)\n",
        "# accuracies.mean()\n",
        "# accuracies.std()\n"
      ],
      "execution_count": 16,
      "outputs": []
    },
    {
      "cell_type": "code",
      "metadata": {
        "colab": {
          "base_uri": "https://localhost:8080/"
        },
        "id": "HXbCAc9eoWo8",
        "outputId": "17b49bc6-5ce8-4a01-dd68-6b4db5b71e76"
      },
      "source": [
        "import pandas as pd\n",
        "import numpy as np\n",
        "import matplotlib.pyplot as plt\n",
        "df2 = pd.read_csv('C:\\\\Users\\\\ispamr\\\\Downloads\\\\house_prices_data_training_data.csv', sep=',')\n",
        "df2.describe()\n",
        "df2.dropna(inplace=True)\n",
        "df2 = df2.drop(columns='id', axis = 1)\n",
        "df2 = df2.drop(columns='date', axis = 1)\n",
        "\n",
        "df2 = df2.convert_dtypes() \n",
        "\n",
        "# df2.apply(pd.to_numeric).dtypes                                             \n",
        "df2 = df2.astype(float)\n",
        "df2.shape\n",
        "df2.dtypes"
      ],
      "execution_count": 17,
      "outputs": [
        {
          "output_type": "execute_result",
          "data": {
            "text/plain": [
              "price            float64\n",
              "bedrooms         float64\n",
              "bathrooms        float64\n",
              "sqft_living      float64\n",
              "sqft_lot         float64\n",
              "floors           float64\n",
              "waterfront       float64\n",
              "view             float64\n",
              "condition        float64\n",
              "grade            float64\n",
              "sqft_above       float64\n",
              "sqft_basement    float64\n",
              "yr_built         float64\n",
              "yr_renovated     float64\n",
              "zipcode          float64\n",
              "lat              float64\n",
              "long             float64\n",
              "sqft_living15    float64\n",
              "sqft_lot15       float64\n",
              "dtype: object"
            ]
          },
          "metadata": {
            "tags": []
          },
          "execution_count": 17
        }
      ]
    },
    {
      "cell_type": "code",
      "metadata": {
        "colab": {
          "base_uri": "https://localhost:8080/",
          "height": 215
        },
        "id": "ZDJ8hS2Kr62c",
        "outputId": "d7961c0c-1226-48dc-b57f-1f084d072e7e"
      },
      "source": [
        "df2.head()"
      ],
      "execution_count": 18,
      "outputs": [
        {
          "output_type": "execute_result",
          "data": {
            "text/plain": [
              "      price  bedrooms  bathrooms  sqft_living  sqft_lot  floors  waterfront  \\\n",
              "0  221900.0       3.0       1.00       1180.0    5650.0     1.0         0.0   \n",
              "1  538000.0       3.0       2.25       2570.0    7242.0     2.0         0.0   \n",
              "2  180000.0       2.0       1.00        770.0   10000.0     1.0         0.0   \n",
              "3  604000.0       4.0       3.00       1960.0    5000.0     1.0         0.0   \n",
              "4  510000.0       3.0       2.00       1680.0    8080.0     1.0         0.0   \n",
              "\n",
              "   view  condition  grade  sqft_above  sqft_basement  yr_built  yr_renovated  \\\n",
              "0   0.0        3.0    7.0      1180.0            0.0    1955.0           0.0   \n",
              "1   0.0        3.0    7.0      2170.0          400.0    1951.0        1991.0   \n",
              "2   0.0        3.0    6.0       770.0            0.0    1933.0           0.0   \n",
              "3   0.0        5.0    7.0      1050.0          910.0    1965.0           0.0   \n",
              "4   0.0        3.0    8.0      1680.0            0.0    1987.0           0.0   \n",
              "\n",
              "   zipcode      lat     long  sqft_living15  sqft_lot15  \n",
              "0  98178.0  47.5112 -122.257         1340.0      5650.0  \n",
              "1  98125.0  47.7210 -122.319         1690.0      7639.0  \n",
              "2  98028.0  47.7379 -122.233         2720.0      8062.0  \n",
              "3  98136.0  47.5208 -122.393         1360.0      5000.0  \n",
              "4  98074.0  47.6168 -122.045         1800.0      7503.0  "
            ],
            "text/html": [
              "<div>\n",
              "<style scoped>\n",
              "    .dataframe tbody tr th:only-of-type {\n",
              "        vertical-align: middle;\n",
              "    }\n",
              "\n",
              "    .dataframe tbody tr th {\n",
              "        vertical-align: top;\n",
              "    }\n",
              "\n",
              "    .dataframe thead th {\n",
              "        text-align: right;\n",
              "    }\n",
              "</style>\n",
              "<table border=\"1\" class=\"dataframe\">\n",
              "  <thead>\n",
              "    <tr style=\"text-align: right;\">\n",
              "      <th></th>\n",
              "      <th>price</th>\n",
              "      <th>bedrooms</th>\n",
              "      <th>bathrooms</th>\n",
              "      <th>sqft_living</th>\n",
              "      <th>sqft_lot</th>\n",
              "      <th>floors</th>\n",
              "      <th>waterfront</th>\n",
              "      <th>view</th>\n",
              "      <th>condition</th>\n",
              "      <th>grade</th>\n",
              "      <th>sqft_above</th>\n",
              "      <th>sqft_basement</th>\n",
              "      <th>yr_built</th>\n",
              "      <th>yr_renovated</th>\n",
              "      <th>zipcode</th>\n",
              "      <th>lat</th>\n",
              "      <th>long</th>\n",
              "      <th>sqft_living15</th>\n",
              "      <th>sqft_lot15</th>\n",
              "    </tr>\n",
              "  </thead>\n",
              "  <tbody>\n",
              "    <tr>\n",
              "      <th>0</th>\n",
              "      <td>221900.0</td>\n",
              "      <td>3.0</td>\n",
              "      <td>1.00</td>\n",
              "      <td>1180.0</td>\n",
              "      <td>5650.0</td>\n",
              "      <td>1.0</td>\n",
              "      <td>0.0</td>\n",
              "      <td>0.0</td>\n",
              "      <td>3.0</td>\n",
              "      <td>7.0</td>\n",
              "      <td>1180.0</td>\n",
              "      <td>0.0</td>\n",
              "      <td>1955.0</td>\n",
              "      <td>0.0</td>\n",
              "      <td>98178.0</td>\n",
              "      <td>47.5112</td>\n",
              "      <td>-122.257</td>\n",
              "      <td>1340.0</td>\n",
              "      <td>5650.0</td>\n",
              "    </tr>\n",
              "    <tr>\n",
              "      <th>1</th>\n",
              "      <td>538000.0</td>\n",
              "      <td>3.0</td>\n",
              "      <td>2.25</td>\n",
              "      <td>2570.0</td>\n",
              "      <td>7242.0</td>\n",
              "      <td>2.0</td>\n",
              "      <td>0.0</td>\n",
              "      <td>0.0</td>\n",
              "      <td>3.0</td>\n",
              "      <td>7.0</td>\n",
              "      <td>2170.0</td>\n",
              "      <td>400.0</td>\n",
              "      <td>1951.0</td>\n",
              "      <td>1991.0</td>\n",
              "      <td>98125.0</td>\n",
              "      <td>47.7210</td>\n",
              "      <td>-122.319</td>\n",
              "      <td>1690.0</td>\n",
              "      <td>7639.0</td>\n",
              "    </tr>\n",
              "    <tr>\n",
              "      <th>2</th>\n",
              "      <td>180000.0</td>\n",
              "      <td>2.0</td>\n",
              "      <td>1.00</td>\n",
              "      <td>770.0</td>\n",
              "      <td>10000.0</td>\n",
              "      <td>1.0</td>\n",
              "      <td>0.0</td>\n",
              "      <td>0.0</td>\n",
              "      <td>3.0</td>\n",
              "      <td>6.0</td>\n",
              "      <td>770.0</td>\n",
              "      <td>0.0</td>\n",
              "      <td>1933.0</td>\n",
              "      <td>0.0</td>\n",
              "      <td>98028.0</td>\n",
              "      <td>47.7379</td>\n",
              "      <td>-122.233</td>\n",
              "      <td>2720.0</td>\n",
              "      <td>8062.0</td>\n",
              "    </tr>\n",
              "    <tr>\n",
              "      <th>3</th>\n",
              "      <td>604000.0</td>\n",
              "      <td>4.0</td>\n",
              "      <td>3.00</td>\n",
              "      <td>1960.0</td>\n",
              "      <td>5000.0</td>\n",
              "      <td>1.0</td>\n",
              "      <td>0.0</td>\n",
              "      <td>0.0</td>\n",
              "      <td>5.0</td>\n",
              "      <td>7.0</td>\n",
              "      <td>1050.0</td>\n",
              "      <td>910.0</td>\n",
              "      <td>1965.0</td>\n",
              "      <td>0.0</td>\n",
              "      <td>98136.0</td>\n",
              "      <td>47.5208</td>\n",
              "      <td>-122.393</td>\n",
              "      <td>1360.0</td>\n",
              "      <td>5000.0</td>\n",
              "    </tr>\n",
              "    <tr>\n",
              "      <th>4</th>\n",
              "      <td>510000.0</td>\n",
              "      <td>3.0</td>\n",
              "      <td>2.00</td>\n",
              "      <td>1680.0</td>\n",
              "      <td>8080.0</td>\n",
              "      <td>1.0</td>\n",
              "      <td>0.0</td>\n",
              "      <td>0.0</td>\n",
              "      <td>3.0</td>\n",
              "      <td>8.0</td>\n",
              "      <td>1680.0</td>\n",
              "      <td>0.0</td>\n",
              "      <td>1987.0</td>\n",
              "      <td>0.0</td>\n",
              "      <td>98074.0</td>\n",
              "      <td>47.6168</td>\n",
              "      <td>-122.045</td>\n",
              "      <td>1800.0</td>\n",
              "      <td>7503.0</td>\n",
              "    </tr>\n",
              "  </tbody>\n",
              "</table>\n",
              "</div>"
            ]
          },
          "metadata": {
            "tags": []
          },
          "execution_count": 18
        }
      ]
    },
    {
      "cell_type": "code",
      "metadata": {
        "id": "S9uU2qLPucui"
      },
      "source": [
        ""
      ],
      "execution_count": 18,
      "outputs": []
    },
    {
      "cell_type": "code",
      "metadata": {
        "colab": {
          "base_uri": "https://localhost:8080/",
          "height": 244
        },
        "id": "2QjzjLIUuv6o",
        "outputId": "18930514-ca26-4a2e-f79b-48918709dcdf"
      },
      "source": [
        "y = df2.iloc[:, 1]\n",
        "X = df2.iloc[:, 2:]\n",
        "X[\"bathrooms1\"] = X[\"bathrooms\"]**2\n",
        "X[\"floors1\"] = X[\"floors\"]**3\n",
        "X[\"sqft_living1\"] = X[\"sqft_living\"]**2\n",
        "X[\"sqft_living2\"] = X[\"sqft_living\"]**3\n",
        "X[\"sqft_living3\"] = X[\"sqft_living\"]**4\n",
        "X[\"sqft_lot1\"] = X[\"sqft_lot\"]**(1/2)\n",
        "X[\"condition1\"] = X[\"condition\"]**2\n",
        "X[\"condition2\"] = X[\"condition\"]**3\n",
        "X.head()"
      ],
      "execution_count": 19,
      "outputs": [
        {
          "output_type": "execute_result",
          "data": {
            "text/plain": [
              "   bathrooms  sqft_living  sqft_lot  floors  waterfront  view  condition  \\\n",
              "0       1.00       1180.0    5650.0     1.0         0.0   0.0        3.0   \n",
              "1       2.25       2570.0    7242.0     2.0         0.0   0.0        3.0   \n",
              "2       1.00        770.0   10000.0     1.0         0.0   0.0        3.0   \n",
              "3       3.00       1960.0    5000.0     1.0         0.0   0.0        5.0   \n",
              "4       2.00       1680.0    8080.0     1.0         0.0   0.0        3.0   \n",
              "\n",
              "   grade  sqft_above  sqft_basement  ...  sqft_living15  sqft_lot15  \\\n",
              "0    7.0      1180.0            0.0  ...         1340.0      5650.0   \n",
              "1    7.0      2170.0          400.0  ...         1690.0      7639.0   \n",
              "2    6.0       770.0            0.0  ...         2720.0      8062.0   \n",
              "3    7.0      1050.0          910.0  ...         1360.0      5000.0   \n",
              "4    8.0      1680.0            0.0  ...         1800.0      7503.0   \n",
              "\n",
              "   bathrooms1  floors1  sqft_living1  sqft_living2  sqft_living3   sqft_lot1  \\\n",
              "0      1.0000      1.0     1392400.0  1.643032e+09  1.938778e+12   75.166482   \n",
              "1      5.0625      8.0     6604900.0  1.697459e+10  4.362470e+13   85.099941   \n",
              "2      1.0000      1.0      592900.0  4.565330e+08  3.515304e+11  100.000000   \n",
              "3      9.0000      1.0     3841600.0  7.529536e+09  1.475789e+13   70.710678   \n",
              "4      4.0000      1.0     2822400.0  4.741632e+09  7.965942e+12   89.888820   \n",
              "\n",
              "   condition1  condition2  \n",
              "0         9.0        27.0  \n",
              "1         9.0        27.0  \n",
              "2         9.0        27.0  \n",
              "3        25.0       125.0  \n",
              "4         9.0        27.0  \n",
              "\n",
              "[5 rows x 25 columns]"
            ],
            "text/html": [
              "<div>\n",
              "<style scoped>\n",
              "    .dataframe tbody tr th:only-of-type {\n",
              "        vertical-align: middle;\n",
              "    }\n",
              "\n",
              "    .dataframe tbody tr th {\n",
              "        vertical-align: top;\n",
              "    }\n",
              "\n",
              "    .dataframe thead th {\n",
              "        text-align: right;\n",
              "    }\n",
              "</style>\n",
              "<table border=\"1\" class=\"dataframe\">\n",
              "  <thead>\n",
              "    <tr style=\"text-align: right;\">\n",
              "      <th></th>\n",
              "      <th>bathrooms</th>\n",
              "      <th>sqft_living</th>\n",
              "      <th>sqft_lot</th>\n",
              "      <th>floors</th>\n",
              "      <th>waterfront</th>\n",
              "      <th>view</th>\n",
              "      <th>condition</th>\n",
              "      <th>grade</th>\n",
              "      <th>sqft_above</th>\n",
              "      <th>sqft_basement</th>\n",
              "      <th>...</th>\n",
              "      <th>sqft_living15</th>\n",
              "      <th>sqft_lot15</th>\n",
              "      <th>bathrooms1</th>\n",
              "      <th>floors1</th>\n",
              "      <th>sqft_living1</th>\n",
              "      <th>sqft_living2</th>\n",
              "      <th>sqft_living3</th>\n",
              "      <th>sqft_lot1</th>\n",
              "      <th>condition1</th>\n",
              "      <th>condition2</th>\n",
              "    </tr>\n",
              "  </thead>\n",
              "  <tbody>\n",
              "    <tr>\n",
              "      <th>0</th>\n",
              "      <td>1.00</td>\n",
              "      <td>1180.0</td>\n",
              "      <td>5650.0</td>\n",
              "      <td>1.0</td>\n",
              "      <td>0.0</td>\n",
              "      <td>0.0</td>\n",
              "      <td>3.0</td>\n",
              "      <td>7.0</td>\n",
              "      <td>1180.0</td>\n",
              "      <td>0.0</td>\n",
              "      <td>...</td>\n",
              "      <td>1340.0</td>\n",
              "      <td>5650.0</td>\n",
              "      <td>1.0000</td>\n",
              "      <td>1.0</td>\n",
              "      <td>1392400.0</td>\n",
              "      <td>1.643032e+09</td>\n",
              "      <td>1.938778e+12</td>\n",
              "      <td>75.166482</td>\n",
              "      <td>9.0</td>\n",
              "      <td>27.0</td>\n",
              "    </tr>\n",
              "    <tr>\n",
              "      <th>1</th>\n",
              "      <td>2.25</td>\n",
              "      <td>2570.0</td>\n",
              "      <td>7242.0</td>\n",
              "      <td>2.0</td>\n",
              "      <td>0.0</td>\n",
              "      <td>0.0</td>\n",
              "      <td>3.0</td>\n",
              "      <td>7.0</td>\n",
              "      <td>2170.0</td>\n",
              "      <td>400.0</td>\n",
              "      <td>...</td>\n",
              "      <td>1690.0</td>\n",
              "      <td>7639.0</td>\n",
              "      <td>5.0625</td>\n",
              "      <td>8.0</td>\n",
              "      <td>6604900.0</td>\n",
              "      <td>1.697459e+10</td>\n",
              "      <td>4.362470e+13</td>\n",
              "      <td>85.099941</td>\n",
              "      <td>9.0</td>\n",
              "      <td>27.0</td>\n",
              "    </tr>\n",
              "    <tr>\n",
              "      <th>2</th>\n",
              "      <td>1.00</td>\n",
              "      <td>770.0</td>\n",
              "      <td>10000.0</td>\n",
              "      <td>1.0</td>\n",
              "      <td>0.0</td>\n",
              "      <td>0.0</td>\n",
              "      <td>3.0</td>\n",
              "      <td>6.0</td>\n",
              "      <td>770.0</td>\n",
              "      <td>0.0</td>\n",
              "      <td>...</td>\n",
              "      <td>2720.0</td>\n",
              "      <td>8062.0</td>\n",
              "      <td>1.0000</td>\n",
              "      <td>1.0</td>\n",
              "      <td>592900.0</td>\n",
              "      <td>4.565330e+08</td>\n",
              "      <td>3.515304e+11</td>\n",
              "      <td>100.000000</td>\n",
              "      <td>9.0</td>\n",
              "      <td>27.0</td>\n",
              "    </tr>\n",
              "    <tr>\n",
              "      <th>3</th>\n",
              "      <td>3.00</td>\n",
              "      <td>1960.0</td>\n",
              "      <td>5000.0</td>\n",
              "      <td>1.0</td>\n",
              "      <td>0.0</td>\n",
              "      <td>0.0</td>\n",
              "      <td>5.0</td>\n",
              "      <td>7.0</td>\n",
              "      <td>1050.0</td>\n",
              "      <td>910.0</td>\n",
              "      <td>...</td>\n",
              "      <td>1360.0</td>\n",
              "      <td>5000.0</td>\n",
              "      <td>9.0000</td>\n",
              "      <td>1.0</td>\n",
              "      <td>3841600.0</td>\n",
              "      <td>7.529536e+09</td>\n",
              "      <td>1.475789e+13</td>\n",
              "      <td>70.710678</td>\n",
              "      <td>25.0</td>\n",
              "      <td>125.0</td>\n",
              "    </tr>\n",
              "    <tr>\n",
              "      <th>4</th>\n",
              "      <td>2.00</td>\n",
              "      <td>1680.0</td>\n",
              "      <td>8080.0</td>\n",
              "      <td>1.0</td>\n",
              "      <td>0.0</td>\n",
              "      <td>0.0</td>\n",
              "      <td>3.0</td>\n",
              "      <td>8.0</td>\n",
              "      <td>1680.0</td>\n",
              "      <td>0.0</td>\n",
              "      <td>...</td>\n",
              "      <td>1800.0</td>\n",
              "      <td>7503.0</td>\n",
              "      <td>4.0000</td>\n",
              "      <td>1.0</td>\n",
              "      <td>2822400.0</td>\n",
              "      <td>4.741632e+09</td>\n",
              "      <td>7.965942e+12</td>\n",
              "      <td>89.888820</td>\n",
              "      <td>9.0</td>\n",
              "      <td>27.0</td>\n",
              "    </tr>\n",
              "  </tbody>\n",
              "</table>\n",
              "<p>5 rows × 25 columns</p>\n",
              "</div>"
            ]
          },
          "metadata": {
            "tags": []
          },
          "execution_count": 19
        }
      ]
    },
    {
      "cell_type": "code",
      "metadata": {
        "id": "WVU1n9Q9w6WV"
      },
      "source": [
        "def feature_normalize(X, mean=np.zeros(1), std=np.zeros(1)):\n",
        "    X = np.array(X)\n",
        "    if len(mean.shape) == 1 or len(std.shape) == 1:\n",
        "        mean = np.mean(X, axis=0)\n",
        "        std = np.std(X, axis=0, ddof=1)\n",
        "\n",
        "    X = (X - mean)/std\n",
        "    return X, mean, std"
      ],
      "execution_count": 20,
      "outputs": []
    },
    {
      "cell_type": "code",
      "metadata": {
        "colab": {
          "base_uri": "https://localhost:8080/"
        },
        "id": "UJ_4apFXxn98",
        "outputId": "95df5ce9-95d7-4469-e883-9b72efaada92"
      },
      "source": [
        "# for column in df2.columns:\n",
        "#   df2[column] = df2[column].as_type(float)\n",
        "X_norm, mu, sigma = feature_normalize(df2)\n",
        "print('Computed mean:', mu)\n",
        "print('Computed standard deviation:', sigma)\n",
        "# X_norm"
      ],
      "execution_count": 21,
      "outputs": [
        {
          "output_type": "stream",
          "text": [
            "Computed mean: [ 5.33074250e+05  3.36296461e+00  2.06160064e+00  2.05182232e+03\n",
            "  1.57587327e+04  1.43316295e+00  7.83376854e-03  2.42457914e-01\n",
            "  3.44852492e+00  7.59236624e+00  1.74974232e+03  3.02080004e+02\n",
            "  1.96728235e+03  9.02535141e+01  9.80780698e+04  4.75602109e+01\n",
            " -1.22215112e+02  1.97323674e+03  1.32822707e+04]\n",
            "Computed standard deviation: [3.64412151e+05 9.34032388e-01 7.58632316e-01 9.02744154e+02\n",
            " 4.24551425e+04 5.09662990e-01 8.81636686e-02 7.78856958e-01\n",
            " 6.67039405e-01 1.16949482e+00 8.05427363e+02 4.49443008e+02\n",
            " 2.79403058e+01 4.14717703e+02 5.41249245e+01 1.39644240e-01\n",
            " 1.39135290e-01 6.73186870e+02 2.73524150e+04]\n"
          ],
          "name": "stdout"
        }
      ]
    },
    {
      "cell_type": "code",
      "metadata": {
        "id": "wcTviZ7-xocz"
      },
      "source": [
        "def compute_cost(X, y, theta):\n",
        "    m = y.shape[0]\n",
        "    h = X.dot(theta)\n",
        "    J = (1/(2*m)) * ((h-y).T.dot(h-y))\n",
        "    return J\n",
        "\n",
        "def gradient_descent(X, y, theta, alpha, num_iters):\n",
        "    m = y.shape[0] \n",
        "    J_history = np.zeros(shape=(num_iters, 1))\n",
        "\n",
        "    for i in range(0, num_iters):\n",
        "        h = X.dot(theta)\n",
        "        diff_hy = h - y\n",
        "\n",
        "        delta = (1/m) * (diff_hy.T.dot(X))\n",
        "        theta = theta - (alpha * delta.T)\n",
        "        J_history[i] = compute_cost(X, y, theta)\n",
        "\n",
        "    return theta, J_history"
      ],
      "execution_count": 22,
      "outputs": []
    },
    {
      "cell_type": "code",
      "metadata": {
        "id": "XtW0lDD-xqOy"
      },
      "source": [
        "m = df2.shape[0]\n",
        "# X = df2.iloc[:, 3:].values\n",
        "# X = df2.iloc[:, 3:].astype(float)\n",
        "# y = df2.iloc[:, 2].astype(float)\n",
        "# X = np.hstack((np.ones((m,1)),X_norm))\n",
        "X = np.hstack((np.ones((m,1)),X_norm))\n",
        "\n",
        "y = np.array(df2.iloc[:, 2].astype(float).values).reshape(-1,1)\n",
        "# y = df2.iloc[:, 2].values\n",
        "theta = np.zeros(shape=(X.shape[1],1))"
      ],
      "execution_count": 23,
      "outputs": []
    },
    {
      "cell_type": "code",
      "metadata": {
        "id": "Iy1pjNPAyNsR"
      },
      "source": [
        ""
      ],
      "execution_count": 23,
      "outputs": []
    },
    {
      "cell_type": "code",
      "metadata": {
        "colab": {
          "base_uri": "https://localhost:8080/"
        },
        "id": "bCYjIxwXAcTK",
        "outputId": "eaaaf6fd-0512-49c9-8444-05e2aba02a7d"
      },
      "source": [
        "alpha = [0.3, 0.1, 0.03, 0.01]\n",
        "colors = ['b','r','g','c']\n",
        "num_iters = 50\n",
        "X.shape"
      ],
      "execution_count": 24,
      "outputs": [
        {
          "output_type": "execute_result",
          "data": {
            "text/plain": [
              "(17999, 20)"
            ]
          },
          "metadata": {
            "tags": []
          },
          "execution_count": 24
        }
      ]
    },
    {
      "cell_type": "code",
      "metadata": {
        "colab": {
          "base_uri": "https://localhost:8080/",
          "height": 295
        },
        "id": "IKBGdewAAc_Q",
        "outputId": "00a70ca7-7c8c-441c-98a6-990ef9f0032a"
      },
      "source": [
        "for i in range(0, len(alpha)):\n",
        "    theta = np.zeros(shape=(X.shape[1],1))\n",
        "    theta, J_history = gradient_descent(X, y, theta, alpha[i], num_iters)\n",
        "    plt.plot(range(len(J_history)), J_history, colors[i], label='Alpha {}'.format(alpha[i]))\n",
        "plt.xlabel('Number of iterations');\n",
        "plt.ylabel('Cost J');\n",
        "plt.title('Selecting learning rates');\n",
        "plt.legend()\n",
        "plt.show()"
      ],
      "execution_count": 25,
      "outputs": [
        {
          "output_type": "display_data",
          "data": {
            "text/plain": [
              "<Figure size 432x288 with 1 Axes>"
            ],
            "image/png": "[encoded data removed]"
          },
          "metadata": {
            "tags": [],
            "needs_background": "light"
          }
        }
      ]
    },
    {
      "cell_type": "code",
      "metadata": {
        "id": "B73M-CxoAeH-",
        "colab": {
          "base_uri": "https://localhost:8080/"
        },
        "outputId": "bde092d1-a135-4902-a3b0-e45958d364e0"
      },
      "source": [
        "iterations = 250\n",
        "alpha = 0.1\n",
        "theta, _ = gradient_descent(X, y, theta, alpha, iterations)\n",
        "\n",
        "print('Theta found by gradient descent:')\n",
        "print(theta)"
      ],
      "execution_count": 26,
      "outputs": [
        {
          "output_type": "stream",
          "text": [
            "Theta found by gradient descent:\n",
            "[[ 2.06160064e+00]\n",
            " [ 4.36136659e-04]\n",
            " [ 1.13119183e-04]\n",
            " [ 7.56835903e-01]\n",
            " [ 7.76800922e-04]\n",
            " [ 4.49622710e-05]\n",
            " [ 3.19657425e-04]\n",
            " [-1.31744205e-04]\n",
            " [ 4.01519841e-05]\n",
            " [ 2.08771402e-04]\n",
            " [-7.58462619e-04]\n",
            " [ 6.20533146e-04]\n",
            " [ 4.48239515e-04]\n",
            " [ 1.14614056e-03]\n",
            " [ 2.75714826e-04]\n",
            " [ 1.13547466e-06]\n",
            " [ 6.31015720e-05]\n",
            " [-2.28917121e-04]\n",
            " [-3.13946836e-04]\n",
            " [-9.39177481e-05]]\n"
          ],
          "name": "stdout"
        }
      ]
    },
    {
      "cell_type": "code",
      "metadata": {
        "colab": {
          "base_uri": "https://localhost:8080/"
        },
        "id": "S7DQwD_vIitF",
        "outputId": "e83e5f04-b51d-43f5-f6c9-42fd815063f5"
      },
      "source": [
        "df = pd.read_csv('C:\\\\Users\\\\ispamr\\\\Downloads\\\\house_prices_data_training_data.csv', sep=',')\n",
        "\n",
        "def split_train_valid_test(data,valid_ratio,test_ratio):\n",
        "    shuffled_indcies=np.random.permutation(len(data))\n",
        "    valid_set_size= int(len(data)*valid_ratio)\n",
        "    valid_indcies=shuffled_indcies[:valid_set_size]\n",
        "    test_set_size= int(len(data)*test_ratio)\n",
        "    test_indcies=shuffled_indcies[valid_set_size:test_set_size+valid_set_size]\n",
        "    train_indices=shuffled_indcies[test_set_size:]\n",
        "    return data.iloc[train_indices],data.iloc[valid_indcies],data.iloc[test_indcies]\n",
        "\n",
        "train_set,valid_set,test_set=split_train_valid_test(df2,valid_ratio=0.2,test_ratio=0.2)\n",
        "print(len(train_set),len(valid_set),len(test_set))\n",
        "##out: (16512, 4128, 4128)"
      ],
      "execution_count": 27,
      "outputs": [
        {
          "output_type": "stream",
          "text": [
            "14400 3599 3599\n"
          ],
          "name": "stdout"
        }
      ]
    },
    {
      "cell_type": "code",
      "metadata": {
        "colab": {
          "base_uri": "https://localhost:8080/",
          "height": 345
        },
        "id": "GSeUBKjfI8iq",
        "outputId": "f9e79ff0-51b1-42e7-fd6e-43d1e2692630"
      },
      "source": [
        "y = train_set.iloc[:, 1]\n",
        "X = train_set.iloc[:, 2:]\n",
        "X[\"bathrooms1\"] = X[\"bathrooms\"]**2\n",
        "X[\"floors1\"] = X[\"floors\"]**3\n",
        "X[\"sqft_living1\"] = X[\"sqft_living\"]**2\n",
        "X[\"sqft_living2\"] = X[\"sqft_living\"]**3\n",
        "X[\"sqft_living3\"] = X[\"sqft_living\"]**4\n",
        "X[\"sqft_lot1\"] = X[\"sqft_lot\"]**(1/2)\n",
        "X[\"condition1\"] = X[\"condition\"]**2\n",
        "X[\"condition2\"] = X[\"condition\"]**3\n",
        "X.head()"
      ],
      "execution_count": 28,
      "outputs": [
        {
          "output_type": "stream",
          "text": [
            "<ipython-input-28-a599b082d4e3>:3: SettingWithCopyWarning: \n",
            "A value is trying to be set on a copy of a slice from a DataFrame.\n",
            "Try using .loc[row_indexer,col_indexer] = value instead\n",
            "\n",
            "See the caveats in the documentation: https://pandas.pydata.org/pandas-docs/stable/user_guide/indexing.html#returning-a-view-versus-a-copy\n",
            "  X[\"bathrooms1\"] = X[\"bathrooms\"]**2\n"
          ],
          "name": "stderr"
        },
        {
          "output_type": "execute_result",
          "data": {
            "text/plain": [
              "       bathrooms  sqft_living  sqft_lot  floors  waterfront  view  condition  \\\n",
              "10639       2.50       3030.0  180263.0     2.0         0.0   0.0        3.0   \n",
              "8870        2.00       1950.0    3757.0     1.0         0.0   0.0        4.0   \n",
              "2408        3.50       2880.0   11340.0     1.0         0.0   0.0        3.0   \n",
              "6288        2.75       2060.0    7350.0     1.0         0.0   0.0        3.0   \n",
              "11173       2.50       2010.0   14298.0     2.0         0.0   0.0        3.0   \n",
              "\n",
              "       grade  sqft_above  sqft_basement  ...  sqft_living15  sqft_lot15  \\\n",
              "10639    7.0      2030.0         1000.0  ...         2600.0    182509.0   \n",
              "8870     6.0      1160.0          790.0  ...         1720.0      3757.0   \n",
              "2408     8.0      1690.0         1190.0  ...         2530.0     11340.0   \n",
              "6288     7.0      1210.0          850.0  ...         1940.0      7420.0   \n",
              "11173    7.0      2010.0            0.0  ...         2010.0     14298.0   \n",
              "\n",
              "       bathrooms1  floors1  sqft_living1  sqft_living2  sqft_living3  \\\n",
              "10639      6.2500      8.0     9180900.0  2.781813e+10  8.428892e+13   \n",
              "8870       4.0000      1.0     3802500.0  7.414875e+09  1.445901e+13   \n",
              "2408      12.2500      1.0     8294400.0  2.388787e+10  6.879707e+13   \n",
              "6288       7.5625      1.0     4243600.0  8.741816e+09  1.800814e+13   \n",
              "11173      6.2500      8.0     4040100.0  8.120601e+09  1.632241e+13   \n",
              "\n",
              "        sqft_lot1  condition1  condition2  \n",
              "10639  424.573904         9.0        27.0  \n",
              "8870    61.294372        16.0        64.0  \n",
              "2408   106.489436         9.0        27.0  \n",
              "6288    85.732141         9.0        27.0  \n",
              "11173  119.574245         9.0        27.0  \n",
              "\n",
              "[5 rows x 25 columns]"
            ],
            "text/html": [
              "<div>\n",
              "<style scoped>\n",
              "    .dataframe tbody tr th:only-of-type {\n",
              "        vertical-align: middle;\n",
              "    }\n",
              "\n",
              "    .dataframe tbody tr th {\n",
              "        vertical-align: top;\n",
              "    }\n",
              "\n",
              "    .dataframe thead th {\n",
              "        text-align: right;\n",
              "    }\n",
              "</style>\n",
              "<table border=\"1\" class=\"dataframe\">\n",
              "  <thead>\n",
              "    <tr style=\"text-align: right;\">\n",
              "      <th></th>\n",
              "      <th>bathrooms</th>\n",
              "      <th>sqft_living</th>\n",
              "      <th>sqft_lot</th>\n",
              "      <th>floors</th>\n",
              "      <th>waterfront</th>\n",
              "      <th>view</th>\n",
              "      <th>condition</th>\n",
              "      <th>grade</th>\n",
              "      <th>sqft_above</th>\n",
              "      <th>sqft_basement</th>\n",
              "      <th>...</th>\n",
              "      <th>sqft_living15</th>\n",
              "      <th>sqft_lot15</th>\n",
              "      <th>bathrooms1</th>\n",
              "      <th>floors1</th>\n",
              "      <th>sqft_living1</th>\n",
              "      <th>sqft_living2</th>\n",
              "      <th>sqft_living3</th>\n",
              "      <th>sqft_lot1</th>\n",
              "      <th>condition1</th>\n",
              "      <th>condition2</th>\n",
              "    </tr>\n",
              "  </thead>\n",
              "  <tbody>\n",
              "    <tr>\n",
              "      <th>10639</th>\n",
              "      <td>2.50</td>\n",
              "      <td>3030.0</td>\n",
              "      <td>180263.0</td>\n",
              "      <td>2.0</td>\n",
              "      <td>0.0</td>\n",
              "      <td>0.0</td>\n",
              "      <td>3.0</td>\n",
              "      <td>7.0</td>\n",
              "      <td>2030.0</td>\n",
              "      <td>1000.0</td>\n",
              "      <td>...</td>\n",
              "      <td>2600.0</td>\n",
              "      <td>182509.0</td>\n",
              "      <td>6.2500</td>\n",
              "      <td>8.0</td>\n",
              "      <td>9180900.0</td>\n",
              "      <td>2.781813e+10</td>\n",
              "      <td>8.428892e+13</td>\n",
              "      <td>424.573904</td>\n",
              "      <td>9.0</td>\n",
              "      <td>27.0</td>\n",
              "    </tr>\n",
              "    <tr>\n",
              "      <th>8870</th>\n",
              "      <td>2.00</td>\n",
              "      <td>1950.0</td>\n",
              "      <td>3757.0</td>\n",
              "      <td>1.0</td>\n",
              "      <td>0.0</td>\n",
              "      <td>0.0</td>\n",
              "      <td>4.0</td>\n",
              "      <td>6.0</td>\n",
              "      <td>1160.0</td>\n",
              "      <td>790.0</td>\n",
              "      <td>...</td>\n",
              "      <td>1720.0</td>\n",
              "      <td>3757.0</td>\n",
              "      <td>4.0000</td>\n",
              "      <td>1.0</td>\n",
              "      <td>3802500.0</td>\n",
              "      <td>7.414875e+09</td>\n",
              "      <td>1.445901e+13</td>\n",
              "      <td>61.294372</td>\n",
              "      <td>16.0</td>\n",
              "      <td>64.0</td>\n",
              "    </tr>\n",
              "    <tr>\n",
              "      <th>2408</th>\n",
              "      <td>3.50</td>\n",
              "      <td>2880.0</td>\n",
              "      <td>11340.0</td>\n",
              "      <td>1.0</td>\n",
              "      <td>0.0</td>\n",
              "      <td>0.0</td>\n",
              "      <td>3.0</td>\n",
              "      <td>8.0</td>\n",
              "      <td>1690.0</td>\n",
              "      <td>1190.0</td>\n",
              "      <td>...</td>\n",
              "      <td>2530.0</td>\n",
              "      <td>11340.0</td>\n",
              "      <td>12.2500</td>\n",
              "      <td>1.0</td>\n",
              "      <td>8294400.0</td>\n",
              "      <td>2.388787e+10</td>\n",
              "      <td>6.879707e+13</td>\n",
              "      <td>106.489436</td>\n",
              "      <td>9.0</td>\n",
              "      <td>27.0</td>\n",
              "    </tr>\n",
              "    <tr>\n",
              "      <th>6288</th>\n",
              "      <td>2.75</td>\n",
              "      <td>2060.0</td>\n",
              "      <td>7350.0</td>\n",
              "      <td>1.0</td>\n",
              "      <td>0.0</td>\n",
              "      <td>0.0</td>\n",
              "      <td>3.0</td>\n",
              "      <td>7.0</td>\n",
              "      <td>1210.0</td>\n",
              "      <td>850.0</td>\n",
              "      <td>...</td>\n",
              "      <td>1940.0</td>\n",
              "      <td>7420.0</td>\n",
              "      <td>7.5625</td>\n",
              "      <td>1.0</td>\n",
              "      <td>4243600.0</td>\n",
              "      <td>8.741816e+09</td>\n",
              "      <td>1.800814e+13</td>\n",
              "      <td>85.732141</td>\n",
              "      <td>9.0</td>\n",
              "      <td>27.0</td>\n",
              "    </tr>\n",
              "    <tr>\n",
              "      <th>11173</th>\n",
              "      <td>2.50</td>\n",
              "      <td>2010.0</td>\n",
              "      <td>14298.0</td>\n",
              "      <td>2.0</td>\n",
              "      <td>0.0</td>\n",
              "      <td>0.0</td>\n",
              "      <td>3.0</td>\n",
              "      <td>7.0</td>\n",
              "      <td>2010.0</td>\n",
              "      <td>0.0</td>\n",
              "      <td>...</td>\n",
              "      <td>2010.0</td>\n",
              "      <td>14298.0</td>\n",
              "      <td>6.2500</td>\n",
              "      <td>8.0</td>\n",
              "      <td>4040100.0</td>\n",
              "      <td>8.120601e+09</td>\n",
              "      <td>1.632241e+13</td>\n",
              "      <td>119.574245</td>\n",
              "      <td>9.0</td>\n",
              "      <td>27.0</td>\n",
              "    </tr>\n",
              "  </tbody>\n",
              "</table>\n",
              "<p>5 rows × 25 columns</p>\n",
              "</div>"
            ]
          },
          "metadata": {
            "tags": []
          },
          "execution_count": 28
        }
      ]
    },
    {
      "cell_type": "code",
      "metadata": {
        "colab": {
          "base_uri": "https://localhost:8080/"
        },
        "id": "tOgFN6P2JTZI",
        "outputId": "870b9bd7-caa1-4592-9a0c-3decaec1df04"
      },
      "source": [
        "# for column in df2.columns:\n",
        "#   df2[column] = df2[column].as_type(float)\n",
        "X_norm, mu, sigma = feature_normalize(df2)\n",
        "print('Computed mean:', mu)\n",
        "print('Computed standard deviation:', sigma)\n",
        "# X_norm"
      ],
      "execution_count": 29,
      "outputs": [
        {
          "output_type": "stream",
          "text": [
            "Computed mean: [ 5.33074250e+05  3.36296461e+00  2.06160064e+00  2.05182232e+03\n",
            "  1.57587327e+04  1.43316295e+00  7.83376854e-03  2.42457914e-01\n",
            "  3.44852492e+00  7.59236624e+00  1.74974232e+03  3.02080004e+02\n",
            "  1.96728235e+03  9.02535141e+01  9.80780698e+04  4.75602109e+01\n",
            " -1.22215112e+02  1.97323674e+03  1.32822707e+04]\n",
            "Computed standard deviation: [3.64412151e+05 9.34032388e-01 7.58632316e-01 9.02744154e+02\n",
            " 4.24551425e+04 5.09662990e-01 8.81636686e-02 7.78856958e-01\n",
            " 6.67039405e-01 1.16949482e+00 8.05427363e+02 4.49443008e+02\n",
            " 2.79403058e+01 4.14717703e+02 5.41249245e+01 1.39644240e-01\n",
            " 1.39135290e-01 6.73186870e+02 2.73524150e+04]\n"
          ],
          "name": "stdout"
        }
      ]
    },
    {
      "cell_type": "code",
      "metadata": {
        "id": "C53BwMi7JrM4"
      },
      "source": [
        "m = df2.shape[0]\n",
        "# X = df2.iloc[:, 3:].values\n",
        "# X = df2.iloc[:, 3:].astype(float)\n",
        "# y = df2.iloc[:, 2].astype(float)\n",
        "# X = np.hstack((np.ones((m,1)),X_norm))\n",
        "X = np.hstack((np.ones((m,1)),X_norm))\n",
        "\n",
        "y = np.array(df2.iloc[:, 2].astype(float).values).reshape(-1,1)\n",
        "# y = df2.iloc[:, 2].values\n",
        "theta = np.zeros(shape=(X.shape[1],1))"
      ],
      "execution_count": 30,
      "outputs": []
    },
    {
      "cell_type": "code",
      "metadata": {
        "id": "51kDdxCwJt73"
      },
      "source": [
        "m = df2.shape[0]\n",
        "# X = df2.iloc[:, 3:].values\n",
        "# X = df2.iloc[:, 3:].astype(float)\n",
        "# y = df2.iloc[:, 2].astype(float)\n",
        "# X = np.hstack((np.ones((m,1)),X_norm))\n",
        "X = np.hstack((np.ones((m,1)),X_norm))\n",
        "\n",
        "y = np.array(df2.iloc[:, 2].astype(float).values).reshape(-1,1)\n",
        "# y = df2.iloc[:, 2].values\n",
        "theta = np.zeros(shape=(X.shape[1],1))"
      ],
      "execution_count": 31,
      "outputs": []
    },
    {
      "cell_type": "code",
      "metadata": {
        "colab": {
          "base_uri": "https://localhost:8080/"
        },
        "id": "iRc2s704JuUp",
        "outputId": "6ae59220-f464-4ccb-df66-8336f75cbafe"
      },
      "source": [
        "# for column in df2.columns:\n",
        "#   df2[column] = df2[column].as_type(float)\n",
        "X_norm, mu, sigma = feature_normalize(df2)\n",
        "print('Computed mean:', mu)\n",
        "print('Computed standard deviation:', sigma)\n",
        "# X_norm\n",
        "alpha = [0.3, 0.1, 0.03, 0.01]\n",
        "colors = ['b','r','g','c']\n",
        "num_iters = 50\n",
        "X.shape"
      ],
      "execution_count": 32,
      "outputs": [
        {
          "output_type": "stream",
          "text": [
            "Computed mean: [ 5.33074250e+05  3.36296461e+00  2.06160064e+00  2.05182232e+03\n",
            "  1.57587327e+04  1.43316295e+00  7.83376854e-03  2.42457914e-01\n",
            "  3.44852492e+00  7.59236624e+00  1.74974232e+03  3.02080004e+02\n",
            "  1.96728235e+03  9.02535141e+01  9.80780698e+04  4.75602109e+01\n",
            " -1.22215112e+02  1.97323674e+03  1.32822707e+04]\n",
            "Computed standard deviation: [3.64412151e+05 9.34032388e-01 7.58632316e-01 9.02744154e+02\n",
            " 4.24551425e+04 5.09662990e-01 8.81636686e-02 7.78856958e-01\n",
            " 6.67039405e-01 1.16949482e+00 8.05427363e+02 4.49443008e+02\n",
            " 2.79403058e+01 4.14717703e+02 5.41249245e+01 1.39644240e-01\n",
            " 1.39135290e-01 6.73186870e+02 2.73524150e+04]\n"
          ],
          "name": "stdout"
        },
        {
          "output_type": "execute_result",
          "data": {
            "text/plain": [
              "(17999, 20)"
            ]
          },
          "metadata": {
            "tags": []
          },
          "execution_count": 32
        }
      ]
    },
    {
      "cell_type": "code",
      "metadata": {
        "colab": {
          "base_uri": "https://localhost:8080/",
          "height": 295
        },
        "id": "flfhfpuvKBeg",
        "outputId": "041f31c1-315e-4a9c-fb42-27009e0e1bf6"
      },
      "source": [
        "for i in range(0, len(alpha)):\n",
        "    theta = np.zeros(shape=(X.shape[1],1))\n",
        "    theta, J_history = gradient_descent(X, y, theta, alpha[i], num_iters)\n",
        "    plt.plot(range(len(J_history)), J_history, colors[i], label='Alpha {}'.format(alpha[i]))\n",
        "plt.xlabel('Number of iterations');\n",
        "plt.ylabel('Cost J');\n",
        "plt.title('Selecting learning rates');\n",
        "plt.legend()\n",
        "plt.show()"
      ],
      "execution_count": 33,
      "outputs": [
        {
          "output_type": "display_data",
          "data": {
            "text/plain": [
              "<Figure size 432x288 with 1 Axes>"
            ],
            "image/png": "[encoded data removed]"
          },
          "metadata": {
            "tags": [],
            "needs_background": "light"
          }
        }
      ]
    },
    {
      "cell_type": "code",
      "metadata": {
        "colab": {
          "base_uri": "https://localhost:8080/"
        },
        "id": "1Iary3DYKB1l",
        "outputId": "989451b7-e78f-431b-db30-2485b42e9066"
      },
      "source": [
        "test_set.dropna(inplace=True)\n",
        "test_set.head()\n",
        "# test_set = test_set.drop(columns='id')\n",
        "# test_set = test_set.drop(columns='date')\n",
        "y_org = test_set.iloc[:, 2]\n",
        "# test_set = test_set.drop(columns='price')\n"
      ],
      "execution_count": 34,
      "outputs": [
        {
          "output_type": "stream",
          "text": [
            "<ipython-input-34-61ba6f401955>:1: SettingWithCopyWarning: \n",
            "A value is trying to be set on a copy of a slice from a DataFrame\n",
            "\n",
            "See the caveats in the documentation: https://pandas.pydata.org/pandas-docs/stable/user_guide/indexing.html#returning-a-view-versus-a-copy\n",
            "  test_set.dropna(inplace=True)\n"
          ],
          "name": "stderr"
        }
      ]
    },
    {
      "cell_type": "code",
      "metadata": {
        "colab": {
          "base_uri": "https://localhost:8080/",
          "height": 602
        },
        "id": "LBaoHveTKMoK",
        "outputId": "461201de-6d36-4848-f9e5-f2f45e89b8ae"
      },
      "source": [
        "iterations = 250\n",
        "alpha = 0.1\n",
        "theta, _ = gradient_descent(X, y, theta, alpha, iterations)\n",
        "\n",
        "print('Theta found by gradient descent:')\n"
      ],
      "execution_count": 35,
      "outputs": [
        {
          "output_type": "stream",
          "text": [
            "Theta found by gradient descent:\n",
            "(20, 1)\n",
            "(3599, 19)\n",
            "price            float64\n",
            "bedrooms         float64\n",
            "bathrooms        float64\n",
            "sqft_living      float64\n",
            "sqft_lot         float64\n",
            "floors           float64\n",
            "waterfront       float64\n",
            "view             float64\n",
            "condition        float64\n",
            "grade            float64\n",
            "sqft_above       float64\n",
            "sqft_basement    float64\n",
            "yr_built         float64\n",
            "yr_renovated     float64\n",
            "zipcode          float64\n",
            "lat              float64\n",
            "long             float64\n",
            "sqft_living15    float64\n",
            "sqft_lot15       float64\n",
            "dtype: object\n"
          ],
          "name": "stdout"
        },
        {
          "output_type": "execute_result",
          "data": {
            "text/plain": [
              "           price  bedrooms  bathrooms  sqft_living  sqft_lot  floors  \\\n",
              "10639   400000.0       4.0       2.50       3030.0  180263.0     2.0   \n",
              "8870    370000.0       4.0       2.00       1950.0    3757.0     1.0   \n",
              "2408   1020000.0       3.0       3.50       2880.0   11340.0     1.0   \n",
              "6288    275000.0       4.0       2.75       2060.0    7350.0     1.0   \n",
              "11173   350000.0       3.0       2.50       2010.0   14298.0     2.0   \n",
              "\n",
              "       waterfront  view  condition  grade  sqft_above  sqft_basement  \\\n",
              "10639         0.0   0.0        3.0    7.0      2030.0         1000.0   \n",
              "8870          0.0   0.0        4.0    6.0      1160.0          790.0   \n",
              "2408          0.0   0.0        3.0    8.0      1690.0         1190.0   \n",
              "6288          0.0   0.0        3.0    7.0      1210.0          850.0   \n",
              "11173         0.0   0.0        3.0    7.0      2010.0            0.0   \n",
              "\n",
              "       yr_built  yr_renovated  zipcode      lat     long  sqft_living15  \\\n",
              "10639    1987.0           0.0  98092.0  47.2953 -122.097         2600.0   \n",
              "8870     1908.0           0.0  98118.0  47.5372 -122.269         1720.0   \n",
              "2408     1980.0        2013.0  98074.0  47.6113 -122.058         2530.0   \n",
              "6288     1978.0           0.0  98001.0  47.3424 -122.275         1940.0   \n",
              "11173    1977.0           0.0  98070.0  47.5069 -122.472         2010.0   \n",
              "\n",
              "       sqft_lot15  \n",
              "10639    182509.0  \n",
              "8870       3757.0  \n",
              "2408      11340.0  \n",
              "6288       7420.0  \n",
              "11173     14298.0  "
            ],
            "text/html": [
              "<div>\n",
              "<style scoped>\n",
              "    .dataframe tbody tr th:only-of-type {\n",
              "        vertical-align: middle;\n",
              "    }\n",
              "\n",
              "    .dataframe tbody tr th {\n",
              "        vertical-align: top;\n",
              "    }\n",
              "\n",
              "    .dataframe thead th {\n",
              "        text-align: right;\n",
              "    }\n",
              "</style>\n",
              "<table border=\"1\" class=\"dataframe\">\n",
              "  <thead>\n",
              "    <tr style=\"text-align: right;\">\n",
              "      <th></th>\n",
              "      <th>price</th>\n",
              "      <th>bedrooms</th>\n",
              "      <th>bathrooms</th>\n",
              "      <th>sqft_living</th>\n",
              "      <th>sqft_lot</th>\n",
              "      <th>floors</th>\n",
              "      <th>waterfront</th>\n",
              "      <th>view</th>\n",
              "      <th>condition</th>\n",
              "      <th>grade</th>\n",
              "      <th>sqft_above</th>\n",
              "      <th>sqft_basement</th>\n",
              "      <th>yr_built</th>\n",
              "      <th>yr_renovated</th>\n",
              "      <th>zipcode</th>\n",
              "      <th>lat</th>\n",
              "      <th>long</th>\n",
              "      <th>sqft_living15</th>\n",
              "      <th>sqft_lot15</th>\n",
              "    </tr>\n",
              "  </thead>\n",
              "  <tbody>\n",
              "    <tr>\n",
              "      <th>10639</th>\n",
              "      <td>400000.0</td>\n",
              "      <td>4.0</td>\n",
              "      <td>2.50</td>\n",
              "      <td>3030.0</td>\n",
              "      <td>180263.0</td>\n",
              "      <td>2.0</td>\n",
              "      <td>0.0</td>\n",
              "      <td>0.0</td>\n",
              "      <td>3.0</td>\n",
              "      <td>7.0</td>\n",
              "      <td>2030.0</td>\n",
              "      <td>1000.0</td>\n",
              "      <td>1987.0</td>\n",
              "      <td>0.0</td>\n",
              "      <td>98092.0</td>\n",
              "      <td>47.2953</td>\n",
              "      <td>-122.097</td>\n",
              "      <td>2600.0</td>\n",
              "      <td>182509.0</td>\n",
              "    </tr>\n",
              "    <tr>\n",
              "      <th>8870</th>\n",
              "      <td>370000.0</td>\n",
              "      <td>4.0</td>\n",
              "      <td>2.00</td>\n",
              "      <td>1950.0</td>\n",
              "      <td>3757.0</td>\n",
              "      <td>1.0</td>\n",
              "      <td>0.0</td>\n",
              "      <td>0.0</td>\n",
              "      <td>4.0</td>\n",
              "      <td>6.0</td>\n",
              "      <td>1160.0</td>\n",
              "      <td>790.0</td>\n",
              "      <td>1908.0</td>\n",
              "      <td>0.0</td>\n",
              "      <td>98118.0</td>\n",
              "      <td>47.5372</td>\n",
              "      <td>-122.269</td>\n",
              "      <td>1720.0</td>\n",
              "      <td>3757.0</td>\n",
              "    </tr>\n",
              "    <tr>\n",
              "      <th>2408</th>\n",
              "      <td>1020000.0</td>\n",
              "      <td>3.0</td>\n",
              "      <td>3.50</td>\n",
              "      <td>2880.0</td>\n",
              "      <td>11340.0</td>\n",
              "      <td>1.0</td>\n",
              "      <td>0.0</td>\n",
              "      <td>0.0</td>\n",
              "      <td>3.0</td>\n",
              "      <td>8.0</td>\n",
              "      <td>1690.0</td>\n",
              "      <td>1190.0</td>\n",
              "      <td>1980.0</td>\n",
              "      <td>2013.0</td>\n",
              "      <td>98074.0</td>\n",
              "      <td>47.6113</td>\n",
              "      <td>-122.058</td>\n",
              "      <td>2530.0</td>\n",
              "      <td>11340.0</td>\n",
              "    </tr>\n",
              "    <tr>\n",
              "      <th>6288</th>\n",
              "      <td>275000.0</td>\n",
              "      <td>4.0</td>\n",
              "      <td>2.75</td>\n",
              "      <td>2060.0</td>\n",
              "      <td>7350.0</td>\n",
              "      <td>1.0</td>\n",
              "      <td>0.0</td>\n",
              "      <td>0.0</td>\n",
              "      <td>3.0</td>\n",
              "      <td>7.0</td>\n",
              "      <td>1210.0</td>\n",
              "      <td>850.0</td>\n",
              "      <td>1978.0</td>\n",
              "      <td>0.0</td>\n",
              "      <td>98001.0</td>\n",
              "      <td>47.3424</td>\n",
              "      <td>-122.275</td>\n",
              "      <td>1940.0</td>\n",
              "      <td>7420.0</td>\n",
              "    </tr>\n",
              "    <tr>\n",
              "      <th>11173</th>\n",
              "      <td>350000.0</td>\n",
              "      <td>3.0</td>\n",
              "      <td>2.50</td>\n",
              "      <td>2010.0</td>\n",
              "      <td>14298.0</td>\n",
              "      <td>2.0</td>\n",
              "      <td>0.0</td>\n",
              "      <td>0.0</td>\n",
              "      <td>3.0</td>\n",
              "      <td>7.0</td>\n",
              "      <td>2010.0</td>\n",
              "      <td>0.0</td>\n",
              "      <td>1977.0</td>\n",
              "      <td>0.0</td>\n",
              "      <td>98070.0</td>\n",
              "      <td>47.5069</td>\n",
              "      <td>-122.472</td>\n",
              "      <td>2010.0</td>\n",
              "      <td>14298.0</td>\n",
              "    </tr>\n",
              "  </tbody>\n",
              "</table>\n",
              "</div>"
            ]
          },
          "metadata": {
            "tags": []
          },
          "execution_count": 35
        }
      ]
    },
    {
      "cell_type": "code",
      "metadata": {
        "id": "hPjzDlOMKwN5"
      },
      "source": [
        ""
      ],
      "execution_count": 35,
      "outputs": []
    },
    {
      "cell_type": "code",
      "metadata": {
        "id": "Elps8d9CPsVm"
      },
      "source": [
        ""
      ],
      "execution_count": 35,
      "outputs": []
    }
  ]
}